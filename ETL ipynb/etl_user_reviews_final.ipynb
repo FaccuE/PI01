{
 "cells": [
  {
   "cell_type": "code",
   "execution_count": 1,
   "metadata": {},
   "outputs": [],
   "source": [
    "import numpy as np\n",
    "import pandas as pd\n",
    "import matplotlib.pyplot as plt\n",
    "import seaborn as sns\n",
    "import pyspark\n",
    "from pyspark.sql.functions import isnan, when, count, concat, lit, col, explode,replace, regexp_replace, udf,length, lower, regexp_replace, array_union, array_join\n",
    "from pyspark.sql import functions as F\n",
    "from pyspark.sql import SparkSession\n",
    "from pyspark import SparkContext\n",
    "from pyspark.sql.types import StructType, StructField, StringType, BooleanType,ArrayType\n",
    "from pyspark.ml.feature import Tokenizer, StopWordsRemover\n",
    "import pyspark.sql.utils\n",
    "import nltk\n",
    "from textblob import TextBlob\n",
    "from nltk.sentiment.vader import SentimentIntensityAnalyzer\n",
    "from langdetect import detect"
   ]
  },
  {
   "cell_type": "markdown",
   "metadata": {},
   "source": [
    "creamos sesion para usar pyspark\n"
   ]
  },
  {
   "cell_type": "code",
   "execution_count": 2,
   "metadata": {},
   "outputs": [],
   "source": [
    "SpSesion = SparkSession \\\n",
    "          .builder \\\n",
    "          .appName('etl') \\\n",
    "          .getOrCreate() "
   ]
  },
  {
   "cell_type": "code",
   "execution_count": 3,
   "metadata": {},
   "outputs": [],
   "source": [
    "SpContext = SpSesion.sparkContext"
   ]
  },
  {
   "cell_type": "markdown",
   "metadata": {},
   "source": [
    "vamos a cargar datos\n"
   ]
  },
  {
   "cell_type": "code",
   "execution_count": 4,
   "metadata": {},
   "outputs": [],
   "source": [
    "path = r'C:\\Users\\Faccu E\\Downloads\\PI01\\FastAPI\\Data\\user_reviews_modificado.json'"
   ]
  },
  {
   "cell_type": "code",
   "execution_count": 5,
   "metadata": {},
   "outputs": [],
   "source": [
    "schema = StructType([\n",
    "        StructField(\"user_id\", StringType()),\n",
    "        StructField(\"user_url\", StringType()),\n",
    "        StructField(\"reviews\", ArrayType(StructType([\n",
    "            StructField(\"funny\", StringType()),\n",
    "            StructField(\"posted\", StringType()),\n",
    "            StructField(\"last_edited\", StringType()),\n",
    "            StructField(\"item_id\", StringType()),\n",
    "            StructField(\"helpful\", StringType()),\n",
    "            StructField(\"recommend\", BooleanType()),\n",
    "            StructField(\"review\", StringType())\n",
    "    ])))\n",
    "])"
   ]
  },
  {
   "cell_type": "code",
   "execution_count": 6,
   "metadata": {},
   "outputs": [],
   "source": [
    "dataset = SpSesion.read.json(path,schema=schema)"
   ]
  },
  {
   "cell_type": "markdown",
   "metadata": {},
   "source": [
    "Vamos a pasar a explorar el archivo y ver de que se trata, tipos de columnas variables  etc\n"
   ]
  },
  {
   "cell_type": "code",
   "execution_count": 7,
   "metadata": {},
   "outputs": [
    {
     "name": "stdout",
     "output_type": "stream",
     "text": [
      "root\n",
      " |-- user_id: string (nullable = true)\n",
      " |-- user_url: string (nullable = true)\n",
      " |-- reviews: array (nullable = true)\n",
      " |    |-- element: struct (containsNull = true)\n",
      " |    |    |-- funny: string (nullable = true)\n",
      " |    |    |-- posted: string (nullable = true)\n",
      " |    |    |-- last_edited: string (nullable = true)\n",
      " |    |    |-- item_id: string (nullable = true)\n",
      " |    |    |-- helpful: string (nullable = true)\n",
      " |    |    |-- recommend: boolean (nullable = true)\n",
      " |    |    |-- review: string (nullable = true)\n",
      "\n"
     ]
    }
   ],
   "source": [
    "dataset.printSchema()"
   ]
  },
  {
   "cell_type": "code",
   "execution_count": 8,
   "metadata": {},
   "outputs": [
    {
     "name": "stdout",
     "output_type": "stream",
     "text": [
      "los tipos de datos son para cada columna \n",
      " [('user_id', 'string'), ('user_url', 'string'), ('reviews', 'array<struct<funny:string,posted:string,last_edited:string,item_id:string,helpful:string,recommend:boolean,review:string>>')]\n",
      "\n",
      "tiene 3 columnas \n",
      "las columnas son \n",
      " ['user_id', 'user_url', 'reviews']\n",
      "\n",
      "el dataset tiene 25798 filas\n",
      "\n"
     ]
    }
   ],
   "source": [
    "print('los tipos de datos son para cada columna \\n',dataset.dtypes)\n",
    "print()\n",
    "print(f'tiene {len(dataset.columns)} columnas ')\n",
    "print('las columnas son \\n',dataset.columns)\n",
    "print()\n",
    "print(f'el dataset tiene {dataset.count()} filas')\n",
    "print()\n",
    "\n"
   ]
  },
  {
   "cell_type": "markdown",
   "metadata": {},
   "source": [
    "eliminamos  la columna de datos corruptos\n"
   ]
  },
  {
   "cell_type": "code",
   "execution_count": 9,
   "metadata": {},
   "outputs": [],
   "source": [
    "\n",
    "dataset = dataset.drop(\"_corrupt_record\") "
   ]
  },
  {
   "cell_type": "code",
   "execution_count": 10,
   "metadata": {},
   "outputs": [
    {
     "data": {
      "text/plain": [
       "DataFrame[user_id: string, user_url: string, reviews: array<struct<funny:string,posted:string,last_edited:string,item_id:string,helpful:string,recommend:boolean,review:string>>]"
      ]
     },
     "execution_count": 10,
     "metadata": {},
     "output_type": "execute_result"
    }
   ],
   "source": [
    "dataset"
   ]
  },
  {
   "cell_type": "code",
   "execution_count": 11,
   "metadata": {},
   "outputs": [
    {
     "name": "stdout",
     "output_type": "stream",
     "text": [
      "root\n",
      " |-- user_id: string (nullable = true)\n",
      " |-- user_url: string (nullable = true)\n",
      " |-- reviews: array (nullable = true)\n",
      " |    |-- element: struct (containsNull = true)\n",
      " |    |    |-- funny: string (nullable = true)\n",
      " |    |    |-- posted: string (nullable = true)\n",
      " |    |    |-- last_edited: string (nullable = true)\n",
      " |    |    |-- item_id: string (nullable = true)\n",
      " |    |    |-- helpful: string (nullable = true)\n",
      " |    |    |-- recommend: boolean (nullable = true)\n",
      " |    |    |-- review: string (nullable = true)\n",
      "\n"
     ]
    }
   ],
   "source": [
    "dataset.printSchema()"
   ]
  },
  {
   "cell_type": "code",
   "execution_count": 12,
   "metadata": {},
   "outputs": [
    {
     "name": "stdout",
     "output_type": "stream",
     "text": [
      "los tipod de tados son  para cada columna \n",
      " [('user_id', 'string'), ('user_url', 'string'), ('reviews', 'array<struct<funny:string,posted:string,last_edited:string,item_id:string,helpful:string,recommend:boolean,review:string>>')]\n",
      "\n",
      "tiene 3 columnas \n",
      "las columnas son \n",
      " ['user_id', 'user_url', 'reviews']\n",
      "\n",
      "el dataset tiene 25798 filas\n",
      "\n"
     ]
    }
   ],
   "source": [
    "print('los tipod de tados son  para cada columna \\n',dataset.dtypes)\n",
    "print()\n",
    "print(f'tiene {len(dataset.columns)} columnas ')\n",
    "print('las columnas son \\n',dataset.columns)\n",
    "print()\n",
    "print(f'el dataset tiene {dataset.count()} filas')\n",
    "print()\n",
    "\n",
    "\n"
   ]
  },
  {
   "cell_type": "code",
   "execution_count": 13,
   "metadata": {},
   "outputs": [
    {
     "name": "stdout",
     "output_type": "stream",
     "text": [
      "+--------------------+--------------------+--------------------+\n",
      "|             user_id|            user_url|             reviews|\n",
      "+--------------------+--------------------+--------------------+\n",
      "|   76561197970982479|http://steamcommu...|[{NULL, Posted No...|\n",
      "|             js41637|http://steamcommu...|[{NULL, Posted Ju...|\n",
      "|           evcentric|http://steamcommu...|[{NULL, Posted Fe...|\n",
      "|               doctr|http://steamcommu...|[{NULL, Posted Oc...|\n",
      "|           maplemage|http://steamcommu...|[{NULL, Posted Ap...|\n",
      "|              Wackky|http://steamcommu...|[{NULL, Posted Ma...|\n",
      "|   76561198079601835|http://steamcommu...|[{NULL, Posted Ma...|\n",
      "|         MeaTCompany|http://steamcommu...|[{NULL, Posted Ju...|\n",
      "|   76561198089393905|http://steamcommu...|[{NULL, Posted Fe...|\n",
      "|   76561198156664158|http://steamcommu...|[{NULL, Posted Ju...|\n",
      "|   76561198077246154|http://steamcommu...|[{NULL, Posted Ju...|\n",
      "|          WeiEDKrSat|http://steamcommu...|[{NULL, Posted De...|\n",
      "|       thequeenpanda|http://steamcommu...|[{NULL, Posted Ju...|\n",
      "|        death-hunter|http://steamcommu...|[{NULL, Posted Se...|\n",
      "|            DJKamBer|http://steamcommu...|[{NULL, Posted Ju...|\n",
      "|      Rainbow-Dashie|http://steamcommu...|[{NULL, Posted Ju...|\n",
      "|   76561198043472122|http://steamcommu...|[{NULL, Posted De...|\n",
      "|        MarbleShrine|http://steamcommu...|[{NULL, Posted Fe...|\n",
      "|            PPanther|http://steamcommu...|[{NULL, Posted Ju...|\n",
      "|            devvonst|http://steamcommu...|[{NULL, Posted Fe...|\n",
      "|         Fr0stedLine|http://steamcommu...|[{NULL, Posted Fe...|\n",
      "| starkillershadow553|http://steamcommu...|[{NULL, Posted Fe...|\n",
      "|   76561198058373434|http://steamcommu...|[{NULL, Posted Ja...|\n",
      "|   76561198048353577|http://steamcommu...|[{NULL, Posted Oc...|\n",
      "|   76561198066046412|http://steamcommu...|[{NULL, Posted De...|\n",
      "|             tru_mu_|http://steamcommu...|[{NULL, Posted De...|\n",
      "|   76561198070565427|http://steamcommu...|[{NULL, Posted Ma...|\n",
      "|          SavageEeEe|http://steamcommu...|[{NULL, Posted No...|\n",
      "|   76561198076909484|http://steamcommu...|[{NULL, Posted Ju...|\n",
      "|       KanadeTheNeko|http://steamcommu...|[{NULL, Posted No...|\n",
      "|   Leaf_Light_Moscow|http://steamcommu...|[{NULL, Posted Ju...|\n",
      "|          GoAwayZach|http://steamcommu...|[{NULL, Posted De...|\n",
      "|   76561198054540475|http://steamcommu...|[{NULL, Posted Fe...|\n",
      "|   76561198085547365|http://steamcommu...|[{NULL, Posted Ju...|\n",
      "|   76561198061252210|http://steamcommu...|[{NULL, Posted Ma...|\n",
      "|    OfficialShroomsy|http://steamcommu...|[{NULL, Posted De...|\n",
      "|             boydeer|http://steamcommu...|[{NULL, Posted Ma...|\n",
      "|             VVillis|http://steamcommu...|[{NULL, Posted Ja...|\n",
      "|   76561198083226897|http://steamcommu...|[{NULL, Posted De...|\n",
      "|   76561198075277292|http://steamcommu...|[{NULL, Posted Ju...|\n",
      "|   76561198028895010|http://steamcommu...|[{NULL, Posted Ap...|\n",
      "|   76561198170198366|http://steamcommu...|[{NULL, Posted Ja...|\n",
      "|           diego9031|http://steamcommu...|[{NULL, Posted Ju...|\n",
      "|          jarrodtrim|http://steamcommu...|[{NULL, Posted Fe...|\n",
      "|   76561198078738103|http://steamcommu...|[{NULL, Posted Fe...|\n",
      "|   76561198067936203|http://steamcommu...|[{NULL, Posted Ma...|\n",
      "|   76561198079770573|http://steamcommu...|[{NULL, Posted Oc...|\n",
      "|   76561198087586464|http://steamcommu...|[{NULL, Posted Oc...|\n",
      "|              Derp-e|http://steamcommu...|[{NULL, Posted No...|\n",
      "|   76561198070194565|http://steamcommu...|[{NULL, Posted Oc...|\n",
      "|              Rivtex|http://steamcommu...|[{NULL, Posted De...|\n",
      "|            UTNerd24|http://steamcommu...|[{NULL, Posted Ma...|\n",
      "|         sandwiches1|http://steamcommu...|[{NULL, Posted No...|\n",
      "|   76561198138053270|http://steamcommu...|[{NULL, Posted Ju...|\n",
      "|           lucaswerg|http://steamcommu...|[{NULL, Posted Ju...|\n",
      "|         Life-Of-Blu|http://steamcommu...|[{NULL, Posted No...|\n",
      "|      CaptianAutismo|http://steamcommu...|[{NULL, Posted De...|\n",
      "|   76561198075895633|http://steamcommu...|[{NULL, Posted Oc...|\n",
      "|        TheDropix101|http://steamcommu...|[{NULL, Posted Ja...|\n",
      "|             kube134|http://steamcommu...|[{NULL, Posted Ju...|\n",
      "|iamthekingofbrown...|http://steamcommu...|[{NULL, Posted Se...|\n",
      "|           MainScout|http://steamcommu...|[{NULL, Posted Fe...|\n",
      "|               gdxsd|http://steamcommu...|                  []|\n",
      "|             yookobz|http://steamcommu...|[{NULL, Posted No...|\n",
      "|         Posiblydead|http://steamcommu...|[{NULL, Posted Ap...|\n",
      "|        Mossy_Gaming|http://steamcommu...|[{NULL, Posted Se...|\n",
      "|   76561198102421718|http://steamcommu...|[{NULL, Posted Ju...|\n",
      "|   76561198087407319|http://steamcommu...|[{NULL, Posted Ja...|\n",
      "|   76561198056741844|http://steamcommu...|[{NULL, Posted Oc...|\n",
      "|          sad-commie|http://steamcommu...|[{NULL, Posted Au...|\n",
      "|   76561198030567998|http://steamcommu...|[{NULL, Posted No...|\n",
      "|   76561198010674657|http://steamcommu...|[{NULL, Posted Ma...|\n",
      "|           Coldaniel|http://steamcommu...|[{NULL, Posted Ma...|\n",
      "|        therealmorty|http://steamcommu...|[{NULL, Posted Ma...|\n",
      "|     Berserklejerker|http://steamcommu...|[{NULL, Posted Oc...|\n",
      "|   76561198061730629|http://steamcommu...|[{NULL, Posted Ju...|\n",
      "|              YoHuNz|http://steamcommu...|[{NULL, Posted Ju...|\n",
      "|     possessioniskey|http://steamcommu...|[{NULL, Posted Ap...|\n",
      "|   76561198093112529|http://steamcommu...|[{NULL, Posted Au...|\n",
      "|   76561198060447950|http://steamcommu...|[{NULL, Posted Se...|\n",
      "|      whiteofwolfing|http://steamcommu...|[{NULL, Posted Ma...|\n",
      "|           sergarino|http://steamcommu...|[{NULL, Posted Au...|\n",
      "|   76561198081962345|http://steamcommu...|[{NULL, Posted Ma...|\n",
      "|   76561198094224872|http://steamcommu...|                  []|\n",
      "|   76561198073210139|http://steamcommu...|[{NULL, Posted Ja...|\n",
      "|           Nozomikat|http://steamcommu...|[{NULL, Posted De...|\n",
      "|          xfluttersx|http://steamcommu...|[{NULL, Posted No...|\n",
      "|   76561198056290589|http://steamcommu...|[{NULL, Posted De...|\n",
      "|       ii_voltage_ii|http://steamcommu...|[{NULL, Posted Ju...|\n",
      "|   76561198097762318|http://steamcommu...|[{NULL, Posted No...|\n",
      "|             Hirukaz|http://steamcommu...|[{NULL, Posted Ja...|\n",
      "|        StelerForYou|http://steamcommu...|[{NULL, Posted Ju...|\n",
      "|   76561198183396245|http://steamcommu...|[{NULL, Posted Ma...|\n",
      "|            Xx-Woods|http://steamcommu...|[{NULL, Posted Ju...|\n",
      "|         kevinator23|http://steamcommu...|[{NULL, Posted Ju...|\n",
      "|   76561198090715178|http://steamcommu...|[{NULL, Posted Ma...|\n",
      "|           CatsWhale|http://steamcommu...|[{NULL, Posted Fe...|\n",
      "|   76561198073784601|http://steamcommu...|[{NULL, Posted Ma...|\n",
      "|          mimimomoma|http://steamcommu...|[{NULL, Posted No...|\n",
      "|   76561198102410011|http://steamcommu...|[{NULL, Posted Se...|\n",
      "+--------------------+--------------------+--------------------+\n",
      "only showing top 100 rows\n",
      "\n"
     ]
    }
   ],
   "source": [
    "dataset.show(100)"
   ]
  },
  {
   "cell_type": "code",
   "execution_count": 14,
   "metadata": {},
   "outputs": [
    {
     "name": "stdout",
     "output_type": "stream",
     "text": [
      "root\n",
      " |-- reviews: struct (nullable = true)\n",
      " |    |-- funny: string (nullable = true)\n",
      " |    |-- posted: string (nullable = true)\n",
      " |    |-- last_edited: string (nullable = true)\n",
      " |    |-- item_id: string (nullable = true)\n",
      " |    |-- helpful: string (nullable = true)\n",
      " |    |-- recommend: boolean (nullable = true)\n",
      " |    |-- review: string (nullable = true)\n",
      "\n"
     ]
    }
   ],
   "source": [
    "df_reviews = dataset.select(explode(col(\"reviews\")).alias(\"reviews\"))\n",
    "df_reviews.printSchema()\n"
   ]
  },
  {
   "cell_type": "markdown",
   "metadata": {},
   "source": [
    "Hacemos un Explode de la columna review"
   ]
  },
  {
   "cell_type": "code",
   "execution_count": 15,
   "metadata": {},
   "outputs": [
    {
     "name": "stdout",
     "output_type": "stream",
     "text": [
      "+-----------------+----------------------------------------------------+--------------------------------------------------------------------------------------------------------------------------------------------------------------------------------------------------------------------------------------------------------------------------------------------------------------------------------------------------------------------------------------------------------------------------------------------------------------------------------------------------------------------------------------------------------------------------------------------------------------------------------------------------------------------------------------------------------------------+\n",
      "|user_id          |user_url                                            |review                                                                                                                                                                                                                                                                                                                                                                                                                                                                                                                                                                                                                                                                                                              |\n",
      "+-----------------+----------------------------------------------------+--------------------------------------------------------------------------------------------------------------------------------------------------------------------------------------------------------------------------------------------------------------------------------------------------------------------------------------------------------------------------------------------------------------------------------------------------------------------------------------------------------------------------------------------------------------------------------------------------------------------------------------------------------------------------------------------------------------------+\n",
      "|76561197970982479|http://steamcommunity.com/profiles/76561197970982479|{NULL, Posted November 5, 2011., , 1250, No ratings yet, true, Simple yet with great replayability. In my opinion does zombie hordes and team work better than left 4 dead plus has a global leveling system. Alot of down to earth zombie splattering fun for the whole family. Amazed this sort of FPS is so rare.}                                                                                                                                                                                                                                                                                                                                                                                               |\n",
      "|76561197970982479|http://steamcommunity.com/profiles/76561197970982479|{NULL, Posted July 15, 2011., , 22200, No ratings yet, true, its unique and worth a playthrough.}                                                                                                                                                                                                                                                                                                                                                                                                                                                                                                                                                                                                                   |\n",
      "|76561197970982479|http://steamcommunity.com/profiles/76561197970982479|{NULL, Posted April 21, 2011., , 43110, No ratings yet, true, Great atmosphere. The gunplay can be a bit chunky at times but at the end of the day this game is definitely worth it and I hope they do a sequel...so buy the game so I get a sequel!}                                                                                                                                                                                                                                                                                                                                                                                                                                                               |\n",
      "|js41637          |http://steamcommunity.com/id/js41637                |{NULL, Posted June 24, 2014., , 251610, 15 of 20 people (75%) found this review helpful, true, I know what you think when you see this title Barbie Dreamhouse Party but do not be intimidated by its title, this is easily one of my GOTYs. You dont get any of that cliche game mechanics that all the latest games have, this is simply good core gameplay. Yes, you can't 360 noscope your friends, but what you can do is show them up with your bad ♥♥♥ dance moves and put them to shame as you show them what true fashion and color combinations are.I know this game says for kids but, this is easily for any age range and any age will have a blast playing this.8/8}                                  |\n",
      "|js41637          |http://steamcommunity.com/id/js41637                |{NULL, Posted September 8, 2013., , 227300, 0 of 1 people (0%) found this review helpful, true, For a simple (its actually not all that simple but it can be!) truck driving Simulator, it is quite a fun and relaxing game. Playing on simple (or easy?) its just the basic WASD keys for driving but (if you want) the game can be much harder and realistic with having to manually change gears, much harder turning, etc. And reversing in this game is a ♥♥♥♥♥, as I imagine it would be with an actual truck. Luckily, you dont have to reverse park it but you get extra points if you do cause it is bloody hard. But this is suprisingly a nice truck driving game and I had a bit of fun with it.}       |\n",
      "|js41637          |http://steamcommunity.com/id/js41637                |{NULL, Posted November 29, 2013., , 239030, 1 of 4 people (25%) found this review helpful, true, Very fun little game to play when your bored or as a time passer. Very gud. Do Recommend. pls buy}                                                                                                                                                                                                                                                                                                                                                                                                                                                                                                                 |\n",
      "|evcentric        |http://steamcommunity.com/id/evcentric              |{NULL, Posted February 3., , 248820, No ratings yet, true, A suitably punishing roguelike platformer.  Winning feels good.  Progressive unlocks mean a good slog ending in failure doesnt feel like a waste.}                                                                                                                                                                                                                                                                                                                                                                                                                                                                                                       |\n",
      "|evcentric        |http://steamcommunity.com/id/evcentric              |{NULL, Posted December 4, 2015., Last edited December 5, 2015., 370360, No ratings yet, true, Run for fun? What the hell kind of fun is that?}                                                                                                                                                                                                                                                                                                                                                                                                                                                                                                                                                                      |\n",
      "|evcentric        |http://steamcommunity.com/id/evcentric              |{NULL, Posted November 3, 2014., , 237930, No ratings yet, true, Elegant integration of gameplay, story, world development and aesthetic.}                                                                                                                                                                                                                                                                                                                                                                                                                                                                                                                                                                          |\n",
      "|evcentric        |http://steamcommunity.com/id/evcentric              |{NULL, Posted October 15, 2014., , 263360, No ratings yet, true, Random drops and random quests, with stat points.  Animation style reminiscent of the era before the Voodoo card.}                                                                                                                                                                                                                                                                                                                                                                                                                                                                                                                                 |\n",
      "|evcentric        |http://steamcommunity.com/id/evcentric              |{NULL, Posted October 15, 2014., , 107200, No ratings yet, true, Fun balance of tactics and strategy.  Potential for very rewarding battles on smaller maps.  Can become a bit of a grind on larger maps (>200 stars).}                                                                                                                                                                                                                                                                                                                                                                                                                                                                                             |\n",
      "|evcentric        |http://steamcommunity.com/id/evcentric              |{NULL, Posted October 15, 2014., , 224500, No ratings yet, true, Fun world builder, with plenty of option of how you want challenge served to you.  Gnome pathing sometimes frustrating if you expand very very quickly.}                                                                                                                                                                                                                                                                                                                                                                                                                                                                                           |\n",
      "|doctr            |http://steamcommunity.com/id/doctr                  |{NULL, Posted October 14, 2013., , 250320, 2 of 2 people (100%) found this review helpful, true, This game... is so fun. The fight sequences have been improved from walking dead. It also includes more of a Sam and Max puzzle solving (some of it in the first episode) and walking dead. The game also gets even more better if you have read the Fables comic books, which are without a doubt, very good. The music is also superb and fit the scenarios very well.}                                                                                                                                                                                                                                          |\n",
      "|doctr            |http://steamcommunity.com/id/doctr                  |{NULL, Posted July 28, 2012., , 20920, 1 of 1 people (100%) found this review helpful, true, Really Really Really Great Game, very good story, im in chapter 1 atm and i think its great. You get a really early link with characters. No need to play the first game, its nicely wrapped up for you in a five minute video. FYI beware of the sex scenes :P, nudity does happen in the game and it shows you actually having sex, so try not to play with your parents around if your near a point in the story. Also you will need a good rig/comp to play on high. dont even try running the game on Ultra unless you have mulitiple gpu s (Graphics card) and ram and a good processor. All in all good game :D}|\n",
      "|doctr            |http://steamcommunity.com/id/doctr                  |{NULL, Posted June 2, 2012., , 204100, 1 of 1 people (100%) found this review helpful, true, Just buy it already. Great Story, Great Multiplayer and good fan service. Just awesome game. Just using shootdodge and bullet time makes you feel like a badass. Also, its better if you get the max payne story recapped or replay the first two but its not necessary.}                                                                                                                                                                                                                                                                                                                                              |\n",
      "|doctr            |http://steamcommunity.com/id/doctr                  |{NULL, Posted June 29, 2014., , 224600, 1 of 2 people (50%) found this review helpful, true, It was a great game from what I played, right now I need to find the actual download.}                                                                                                                                                                                                                                                                                                                                                                                                                                                                                                                                 |\n",
      "|doctr            |http://steamcommunity.com/id/doctr                  |{NULL, Posted November 22, 2012., , 207610, No ratings yet, true, The ending to this game is.... ♥♥♥♥♥♥♥.... Just buy it, you will be invested, im automatically preordering season two of the walking dead game.}                                                                                                                                                                                                                                                                                                                                                                                                                                                                                                  |\n",
      "|doctr            |http://steamcommunity.com/id/doctr                  |{NULL, Posted February 23, 2012., , 108710, No ratings yet, true, Alan wake is a really good game, the light effects are pretty awesome and this game is so good, it paid back remedy their promotion and conversion fees in the first two days on steam. Its awesome :D. Remedy can still make video games, even if its not Max Payne. It is also very character driven.}                                                                                                                                                                                                                                                                                                                                          |\n",
      "|maplemage        |http://steamcommunity.com/id/maplemage              |{NULL, Posted April 15, 2014., , 211420, 35 of 43 people (81%) found this review helpful, true, Git gud}                                                                                                                                                                                                                                                                                                                                                                                                                                                                                                                                                                                                            |\n",
      "|maplemage        |http://steamcommunity.com/id/maplemage              |{NULL, Posted December 23, 2013., , 211820, 12 of 16 people (75%) found this review helpful, true, its like Terraria, you play for 9 hours straight, get endgame armour then stop playing until the next update.}                                                                                                                                                                                                                                                                                                                                                                                                                                                                                                   |\n",
      "+-----------------+----------------------------------------------------+--------------------------------------------------------------------------------------------------------------------------------------------------------------------------------------------------------------------------------------------------------------------------------------------------------------------------------------------------------------------------------------------------------------------------------------------------------------------------------------------------------------------------------------------------------------------------------------------------------------------------------------------------------------------------------------------------------------------+\n",
      "only showing top 20 rows\n",
      "\n"
     ]
    }
   ],
   "source": [
    "df_explotado = dataset.select(\"user_id\", \"user_url\", explode(\"reviews\").alias(\"review\"))\n",
    "\n",
    "df_explotado.show(20, truncate=False)"
   ]
  },
  {
   "cell_type": "markdown",
   "metadata": {},
   "source": [
    "Buscamos datos nulos en la columna Reviews"
   ]
  },
  {
   "cell_type": "code",
   "execution_count": 16,
   "metadata": {},
   "outputs": [
    {
     "name": "stdout",
     "output_type": "stream",
     "text": [
      "El dataset tiene 627 datos nulos en la columna 'reviews'\n"
     ]
    }
   ],
   "source": [
    "df_null_reviews = dataset.filter(dataset.reviews.isNull())\n",
    "\n",
    "num_null_rows = df_null_reviews.count()\n",
    "\n",
    "print(\"El dataset tiene\", num_null_rows, \"datos nulos en la columna 'reviews'\")"
   ]
  },
  {
   "cell_type": "code",
   "execution_count": 17,
   "metadata": {},
   "outputs": [],
   "source": [
    "df = dataset.withColumn(\"reviews\", explode(dataset.reviews))"
   ]
  },
  {
   "cell_type": "markdown",
   "metadata": {},
   "source": [
    "Asignamos los nombres de las columnas que estamos creando"
   ]
  },
  {
   "cell_type": "code",
   "execution_count": 18,
   "metadata": {},
   "outputs": [],
   "source": [
    "df = df.withColumn(\"funny\", col(\"reviews.funny\"))\n",
    "df = df.withColumn(\"posted\", col(\"reviews.posted\"))\n",
    "df = df.withColumn(\"last_edited\", col(\"reviews.last_edited\"))\n",
    "df = df.withColumn(\"item_id\", col(\"reviews.item_id\"))\n",
    "df = df.withColumn(\"helpful\", col(\"reviews.helpful\"))\n",
    "df = df.withColumn(\"recommend\", col(\"reviews.recommend\"))\n",
    "df = df.withColumn(\"review\", col(\"reviews.review\"))"
   ]
  },
  {
   "cell_type": "markdown",
   "metadata": {},
   "source": [
    "Eliminamos la columna reviews"
   ]
  },
  {
   "cell_type": "code",
   "execution_count": 19,
   "metadata": {},
   "outputs": [],
   "source": [
    "df = df.drop(\"reviews\")"
   ]
  },
  {
   "cell_type": "code",
   "execution_count": 20,
   "metadata": {},
   "outputs": [
    {
     "name": "stdout",
     "output_type": "stream",
     "text": [
      "+-----------------+----------------------------------------------------+-----+-------------------------+-----------------------------+-------+-----------------------------------------------+---------+----------------------------------------------------------------------------------------------------------------------------------------------------------------------------------------------------------------------------------------------------------------------------------------------------------------------------------------------------------------------------------------------------------------------------------------------------------------------------------------------------------------------------------------------------------------------------------------------------------------------+\n",
      "|user_id          |user_url                                            |funny|posted                   |last_edited                  |item_id|helpful                                        |recommend|review                                                                                                                                                                                                                                                                                                                                                                                                                                                                                                                                                                                                                |\n",
      "+-----------------+----------------------------------------------------+-----+-------------------------+-----------------------------+-------+-----------------------------------------------+---------+----------------------------------------------------------------------------------------------------------------------------------------------------------------------------------------------------------------------------------------------------------------------------------------------------------------------------------------------------------------------------------------------------------------------------------------------------------------------------------------------------------------------------------------------------------------------------------------------------------------------+\n",
      "|76561197970982479|http://steamcommunity.com/profiles/76561197970982479|NULL |Posted November 5, 2011. |                             |1250   |No ratings yet                                 |true     |Simple yet with great replayability. In my opinion does zombie hordes and team work better than left 4 dead plus has a global leveling system. Alot of down to earth zombie splattering fun for the whole family. Amazed this sort of FPS is so rare.                                                                                                                                                                                                                                                                                                                                                                 |\n",
      "|76561197970982479|http://steamcommunity.com/profiles/76561197970982479|NULL |Posted July 15, 2011.    |                             |22200  |No ratings yet                                 |true     |its unique and worth a playthrough.                                                                                                                                                                                                                                                                                                                                                                                                                                                                                                                                                                                   |\n",
      "|76561197970982479|http://steamcommunity.com/profiles/76561197970982479|NULL |Posted April 21, 2011.   |                             |43110  |No ratings yet                                 |true     |Great atmosphere. The gunplay can be a bit chunky at times but at the end of the day this game is definitely worth it and I hope they do a sequel...so buy the game so I get a sequel!                                                                                                                                                                                                                                                                                                                                                                                                                                |\n",
      "|js41637          |http://steamcommunity.com/id/js41637                |NULL |Posted June 24, 2014.    |                             |251610 |15 of 20 people (75%) found this review helpful|true     |I know what you think when you see this title Barbie Dreamhouse Party but do not be intimidated by its title, this is easily one of my GOTYs. You dont get any of that cliche game mechanics that all the latest games have, this is simply good core gameplay. Yes, you can't 360 noscope your friends, but what you can do is show them up with your bad ♥♥♥ dance moves and put them to shame as you show them what true fashion and color combinations are.I know this game says for kids but, this is easily for any age range and any age will have a blast playing this.8/8                                    |\n",
      "|js41637          |http://steamcommunity.com/id/js41637                |NULL |Posted September 8, 2013.|                             |227300 |0 of 1 people (0%) found this review helpful   |true     |For a simple (its actually not all that simple but it can be!) truck driving Simulator, it is quite a fun and relaxing game. Playing on simple (or easy?) its just the basic WASD keys for driving but (if you want) the game can be much harder and realistic with having to manually change gears, much harder turning, etc. And reversing in this game is a ♥♥♥♥♥, as I imagine it would be with an actual truck. Luckily, you dont have to reverse park it but you get extra points if you do cause it is bloody hard. But this is suprisingly a nice truck driving game and I had a bit of fun with it.          |\n",
      "|js41637          |http://steamcommunity.com/id/js41637                |NULL |Posted November 29, 2013.|                             |239030 |1 of 4 people (25%) found this review helpful  |true     |Very fun little game to play when your bored or as a time passer. Very gud. Do Recommend. pls buy                                                                                                                                                                                                                                                                                                                                                                                                                                                                                                                     |\n",
      "|evcentric        |http://steamcommunity.com/id/evcentric              |NULL |Posted February 3.       |                             |248820 |No ratings yet                                 |true     |A suitably punishing roguelike platformer.  Winning feels good.  Progressive unlocks mean a good slog ending in failure doesnt feel like a waste.                                                                                                                                                                                                                                                                                                                                                                                                                                                                     |\n",
      "|evcentric        |http://steamcommunity.com/id/evcentric              |NULL |Posted December 4, 2015. |Last edited December 5, 2015.|370360 |No ratings yet                                 |true     |Run for fun? What the hell kind of fun is that?                                                                                                                                                                                                                                                                                                                                                                                                                                                                                                                                                                       |\n",
      "|evcentric        |http://steamcommunity.com/id/evcentric              |NULL |Posted November 3, 2014. |                             |237930 |No ratings yet                                 |true     |Elegant integration of gameplay, story, world development and aesthetic.                                                                                                                                                                                                                                                                                                                                                                                                                                                                                                                                              |\n",
      "|evcentric        |http://steamcommunity.com/id/evcentric              |NULL |Posted October 15, 2014. |                             |263360 |No ratings yet                                 |true     |Random drops and random quests, with stat points.  Animation style reminiscent of the era before the Voodoo card.                                                                                                                                                                                                                                                                                                                                                                                                                                                                                                     |\n",
      "|evcentric        |http://steamcommunity.com/id/evcentric              |NULL |Posted October 15, 2014. |                             |107200 |No ratings yet                                 |true     |Fun balance of tactics and strategy.  Potential for very rewarding battles on smaller maps.  Can become a bit of a grind on larger maps (>200 stars).                                                                                                                                                                                                                                                                                                                                                                                                                                                                 |\n",
      "|evcentric        |http://steamcommunity.com/id/evcentric              |NULL |Posted October 15, 2014. |                             |224500 |No ratings yet                                 |true     |Fun world builder, with plenty of option of how you want challenge served to you.  Gnome pathing sometimes frustrating if you expand very very quickly.                                                                                                                                                                                                                                                                                                                                                                                                                                                               |\n",
      "|doctr            |http://steamcommunity.com/id/doctr                  |NULL |Posted October 14, 2013. |                             |250320 |2 of 2 people (100%) found this review helpful |true     |This game... is so fun. The fight sequences have been improved from walking dead. It also includes more of a Sam and Max puzzle solving (some of it in the first episode) and walking dead. The game also gets even more better if you have read the Fables comic books, which are without a doubt, very good. The music is also superb and fit the scenarios very well.                                                                                                                                                                                                                                              |\n",
      "|doctr            |http://steamcommunity.com/id/doctr                  |NULL |Posted July 28, 2012.    |                             |20920  |1 of 1 people (100%) found this review helpful |true     |Really Really Really Great Game, very good story, im in chapter 1 atm and i think its great. You get a really early link with characters. No need to play the first game, its nicely wrapped up for you in a five minute video. FYI beware of the sex scenes :P, nudity does happen in the game and it shows you actually having sex, so try not to play with your parents around if your near a point in the story. Also you will need a good rig/comp to play on high. dont even try running the game on Ultra unless you have mulitiple gpu s (Graphics card) and ram and a good processor. All in all good game :D|\n",
      "|doctr            |http://steamcommunity.com/id/doctr                  |NULL |Posted June 2, 2012.     |                             |204100 |1 of 1 people (100%) found this review helpful |true     |Just buy it already. Great Story, Great Multiplayer and good fan service. Just awesome game. Just using shootdodge and bullet time makes you feel like a badass. Also, its better if you get the max payne story recapped or replay the first two but its not necessary.                                                                                                                                                                                                                                                                                                                                              |\n",
      "|doctr            |http://steamcommunity.com/id/doctr                  |NULL |Posted June 29, 2014.    |                             |224600 |1 of 2 people (50%) found this review helpful  |true     |It was a great game from what I played, right now I need to find the actual download.                                                                                                                                                                                                                                                                                                                                                                                                                                                                                                                                 |\n",
      "|doctr            |http://steamcommunity.com/id/doctr                  |NULL |Posted November 22, 2012.|                             |207610 |No ratings yet                                 |true     |The ending to this game is.... ♥♥♥♥♥♥♥.... Just buy it, you will be invested, im automatically preordering season two of the walking dead game.                                                                                                                                                                                                                                                                                                                                                                                                                                                                       |\n",
      "|doctr            |http://steamcommunity.com/id/doctr                  |NULL |Posted February 23, 2012.|                             |108710 |No ratings yet                                 |true     |Alan wake is a really good game, the light effects are pretty awesome and this game is so good, it paid back remedy their promotion and conversion fees in the first two days on steam. Its awesome :D. Remedy can still make video games, even if its not Max Payne. It is also very character driven.                                                                                                                                                                                                                                                                                                               |\n",
      "|maplemage        |http://steamcommunity.com/id/maplemage              |NULL |Posted April 15, 2014.   |                             |211420 |35 of 43 people (81%) found this review helpful|true     |Git gud                                                                                                                                                                                                                                                                                                                                                                                                                                                                                                                                                                                                               |\n",
      "|maplemage        |http://steamcommunity.com/id/maplemage              |NULL |Posted December 23, 2013.|                             |211820 |12 of 16 people (75%) found this review helpful|true     |its like Terraria, you play for 9 hours straight, get endgame armour then stop playing until the next update.                                                                                                                                                                                                                                                                                                                                                                                                                                                                                                         |\n",
      "+-----------------+----------------------------------------------------+-----+-------------------------+-----------------------------+-------+-----------------------------------------------+---------+----------------------------------------------------------------------------------------------------------------------------------------------------------------------------------------------------------------------------------------------------------------------------------------------------------------------------------------------------------------------------------------------------------------------------------------------------------------------------------------------------------------------------------------------------------------------------------------------------------------------+\n",
      "only showing top 20 rows\n",
      "\n"
     ]
    }
   ],
   "source": [
    "df.show(truncate=False)"
   ]
  },
  {
   "cell_type": "markdown",
   "metadata": {},
   "source": [
    "Empezamos a limpiar las columnas que no necesitamos"
   ]
  },
  {
   "cell_type": "code",
   "execution_count": 21,
   "metadata": {},
   "outputs": [],
   "source": [
    "df = df.drop('funny')\n",
    "df = df.drop('helpful')"
   ]
  },
  {
   "cell_type": "code",
   "execution_count": 22,
   "metadata": {},
   "outputs": [
    {
     "name": "stdout",
     "output_type": "stream",
     "text": [
      "+-----------------+----------------------------------------------------+-------------------------+-----------------------------+-------+---------+----------------------------------------------------------------------------------------------------------------------------------------------------------------------------------------------------------------------------------------------------------------------------------------------------------------------------------------------------------------------------------------------------------------------------------------------------------------------------------------------------------------------------------------------------------------------------------------------------------------------+\n",
      "|user_id          |user_url                                            |posted                   |last_edited                  |item_id|recommend|review                                                                                                                                                                                                                                                                                                                                                                                                                                                                                                                                                                                                                |\n",
      "+-----------------+----------------------------------------------------+-------------------------+-----------------------------+-------+---------+----------------------------------------------------------------------------------------------------------------------------------------------------------------------------------------------------------------------------------------------------------------------------------------------------------------------------------------------------------------------------------------------------------------------------------------------------------------------------------------------------------------------------------------------------------------------------------------------------------------------+\n",
      "|76561197970982479|http://steamcommunity.com/profiles/76561197970982479|Posted November 5, 2011. |                             |1250   |true     |Simple yet with great replayability. In my opinion does zombie hordes and team work better than left 4 dead plus has a global leveling system. Alot of down to earth zombie splattering fun for the whole family. Amazed this sort of FPS is so rare.                                                                                                                                                                                                                                                                                                                                                                 |\n",
      "|76561197970982479|http://steamcommunity.com/profiles/76561197970982479|Posted July 15, 2011.    |                             |22200  |true     |its unique and worth a playthrough.                                                                                                                                                                                                                                                                                                                                                                                                                                                                                                                                                                                   |\n",
      "|76561197970982479|http://steamcommunity.com/profiles/76561197970982479|Posted April 21, 2011.   |                             |43110  |true     |Great atmosphere. The gunplay can be a bit chunky at times but at the end of the day this game is definitely worth it and I hope they do a sequel...so buy the game so I get a sequel!                                                                                                                                                                                                                                                                                                                                                                                                                                |\n",
      "|js41637          |http://steamcommunity.com/id/js41637                |Posted June 24, 2014.    |                             |251610 |true     |I know what you think when you see this title Barbie Dreamhouse Party but do not be intimidated by its title, this is easily one of my GOTYs. You dont get any of that cliche game mechanics that all the latest games have, this is simply good core gameplay. Yes, you can't 360 noscope your friends, but what you can do is show them up with your bad ♥♥♥ dance moves and put them to shame as you show them what true fashion and color combinations are.I know this game says for kids but, this is easily for any age range and any age will have a blast playing this.8/8                                    |\n",
      "|js41637          |http://steamcommunity.com/id/js41637                |Posted September 8, 2013.|                             |227300 |true     |For a simple (its actually not all that simple but it can be!) truck driving Simulator, it is quite a fun and relaxing game. Playing on simple (or easy?) its just the basic WASD keys for driving but (if you want) the game can be much harder and realistic with having to manually change gears, much harder turning, etc. And reversing in this game is a ♥♥♥♥♥, as I imagine it would be with an actual truck. Luckily, you dont have to reverse park it but you get extra points if you do cause it is bloody hard. But this is suprisingly a nice truck driving game and I had a bit of fun with it.          |\n",
      "|js41637          |http://steamcommunity.com/id/js41637                |Posted November 29, 2013.|                             |239030 |true     |Very fun little game to play when your bored or as a time passer. Very gud. Do Recommend. pls buy                                                                                                                                                                                                                                                                                                                                                                                                                                                                                                                     |\n",
      "|evcentric        |http://steamcommunity.com/id/evcentric              |Posted February 3.       |                             |248820 |true     |A suitably punishing roguelike platformer.  Winning feels good.  Progressive unlocks mean a good slog ending in failure doesnt feel like a waste.                                                                                                                                                                                                                                                                                                                                                                                                                                                                     |\n",
      "|evcentric        |http://steamcommunity.com/id/evcentric              |Posted December 4, 2015. |Last edited December 5, 2015.|370360 |true     |Run for fun? What the hell kind of fun is that?                                                                                                                                                                                                                                                                                                                                                                                                                                                                                                                                                                       |\n",
      "|evcentric        |http://steamcommunity.com/id/evcentric              |Posted November 3, 2014. |                             |237930 |true     |Elegant integration of gameplay, story, world development and aesthetic.                                                                                                                                                                                                                                                                                                                                                                                                                                                                                                                                              |\n",
      "|evcentric        |http://steamcommunity.com/id/evcentric              |Posted October 15, 2014. |                             |263360 |true     |Random drops and random quests, with stat points.  Animation style reminiscent of the era before the Voodoo card.                                                                                                                                                                                                                                                                                                                                                                                                                                                                                                     |\n",
      "|evcentric        |http://steamcommunity.com/id/evcentric              |Posted October 15, 2014. |                             |107200 |true     |Fun balance of tactics and strategy.  Potential for very rewarding battles on smaller maps.  Can become a bit of a grind on larger maps (>200 stars).                                                                                                                                                                                                                                                                                                                                                                                                                                                                 |\n",
      "|evcentric        |http://steamcommunity.com/id/evcentric              |Posted October 15, 2014. |                             |224500 |true     |Fun world builder, with plenty of option of how you want challenge served to you.  Gnome pathing sometimes frustrating if you expand very very quickly.                                                                                                                                                                                                                                                                                                                                                                                                                                                               |\n",
      "|doctr            |http://steamcommunity.com/id/doctr                  |Posted October 14, 2013. |                             |250320 |true     |This game... is so fun. The fight sequences have been improved from walking dead. It also includes more of a Sam and Max puzzle solving (some of it in the first episode) and walking dead. The game also gets even more better if you have read the Fables comic books, which are without a doubt, very good. The music is also superb and fit the scenarios very well.                                                                                                                                                                                                                                              |\n",
      "|doctr            |http://steamcommunity.com/id/doctr                  |Posted July 28, 2012.    |                             |20920  |true     |Really Really Really Great Game, very good story, im in chapter 1 atm and i think its great. You get a really early link with characters. No need to play the first game, its nicely wrapped up for you in a five minute video. FYI beware of the sex scenes :P, nudity does happen in the game and it shows you actually having sex, so try not to play with your parents around if your near a point in the story. Also you will need a good rig/comp to play on high. dont even try running the game on Ultra unless you have mulitiple gpu s (Graphics card) and ram and a good processor. All in all good game :D|\n",
      "|doctr            |http://steamcommunity.com/id/doctr                  |Posted June 2, 2012.     |                             |204100 |true     |Just buy it already. Great Story, Great Multiplayer and good fan service. Just awesome game. Just using shootdodge and bullet time makes you feel like a badass. Also, its better if you get the max payne story recapped or replay the first two but its not necessary.                                                                                                                                                                                                                                                                                                                                              |\n",
      "|doctr            |http://steamcommunity.com/id/doctr                  |Posted June 29, 2014.    |                             |224600 |true     |It was a great game from what I played, right now I need to find the actual download.                                                                                                                                                                                                                                                                                                                                                                                                                                                                                                                                 |\n",
      "|doctr            |http://steamcommunity.com/id/doctr                  |Posted November 22, 2012.|                             |207610 |true     |The ending to this game is.... ♥♥♥♥♥♥♥.... Just buy it, you will be invested, im automatically preordering season two of the walking dead game.                                                                                                                                                                                                                                                                                                                                                                                                                                                                       |\n",
      "|doctr            |http://steamcommunity.com/id/doctr                  |Posted February 23, 2012.|                             |108710 |true     |Alan wake is a really good game, the light effects are pretty awesome and this game is so good, it paid back remedy their promotion and conversion fees in the first two days on steam. Its awesome :D. Remedy can still make video games, even if its not Max Payne. It is also very character driven.                                                                                                                                                                                                                                                                                                               |\n",
      "|maplemage        |http://steamcommunity.com/id/maplemage              |Posted April 15, 2014.   |                             |211420 |true     |Git gud                                                                                                                                                                                                                                                                                                                                                                                                                                                                                                                                                                                                               |\n",
      "|maplemage        |http://steamcommunity.com/id/maplemage              |Posted December 23, 2013.|                             |211820 |true     |its like Terraria, you play for 9 hours straight, get endgame armour then stop playing until the next update.                                                                                                                                                                                                                                                                                                                                                                                                                                                                                                         |\n",
      "+-----------------+----------------------------------------------------+-------------------------+-----------------------------+-------+---------+----------------------------------------------------------------------------------------------------------------------------------------------------------------------------------------------------------------------------------------------------------------------------------------------------------------------------------------------------------------------------------------------------------------------------------------------------------------------------------------------------------------------------------------------------------------------------------------------------------------------+\n",
      "only showing top 20 rows\n",
      "\n"
     ]
    }
   ],
   "source": [
    "df.show(truncate=False)"
   ]
  },
  {
   "cell_type": "markdown",
   "metadata": {},
   "source": [
    "buscamos caracteristicas dentro de la columna review"
   ]
  },
  {
   "cell_type": "code",
   "execution_count": 23,
   "metadata": {},
   "outputs": [
    {
     "name": "stdout",
     "output_type": "stream",
     "text": [
      "Número total de filas: 56642\n",
      "Número de aplicaciones únicas: 52685\n",
      "Número de aplicaciones con valores nulos: 0\n",
      "Número de juegos repetidos: 3957\n"
     ]
    }
   ],
   "source": [
    "total_rows = df.count()\n",
    "unique_apps = df.select(\"review\").distinct().count()\n",
    "null_apps = df.filter(col(\"review\").isNull()).count()\n",
    "repeated_apps = total_rows - unique_apps - null_apps\n",
    "\n",
    "print(\"Número total de filas:\", total_rows)\n",
    "print(\"Número de aplicaciones únicas:\", unique_apps)\n",
    "print(\"Número de aplicaciones con valores nulos:\", null_apps)\n",
    "print(\"Número de juegos repetidos:\", repeated_apps)"
   ]
  },
  {
   "cell_type": "markdown",
   "metadata": {},
   "source": [
    "Ahora haremos trabajando unicamente con el dataframe en pandas  usando la columna review  usamos langdetect para determinar el lenguaje de dicha columna"
   ]
  },
  {
   "cell_type": "markdown",
   "metadata": {},
   "source": [
    "hacemos la funcion para detectar el idioma"
   ]
  },
  {
   "cell_type": "code",
   "execution_count": 24,
   "metadata": {},
   "outputs": [],
   "source": [
    "df = df.withColumn(\"review\", lower(col(\"review\")))"
   ]
  },
  {
   "cell_type": "code",
   "execution_count": 25,
   "metadata": {},
   "outputs": [],
   "source": [
    "df = df.withColumn(\"review\", regexp_replace(col(\"review\"), \"[^a-zA-Z\\s]\", \"\"))"
   ]
  },
  {
   "cell_type": "code",
   "execution_count": 26,
   "metadata": {},
   "outputs": [],
   "source": [
    "tokenizer = Tokenizer(inputCol=\"review\", outputCol=\"words\")\n",
    "df = tokenizer.transform(df)"
   ]
  },
  {
   "cell_type": "code",
   "execution_count": 27,
   "metadata": {},
   "outputs": [],
   "source": [
    "remover = StopWordsRemover(inputCol=\"words\", outputCol=\"filtered_words\")\n",
    "df = remover.transform(df)"
   ]
  },
  {
   "cell_type": "code",
   "execution_count": 28,
   "metadata": {},
   "outputs": [],
   "source": [
    "df = df.withColumn(\"normalized_text\", F.concat_ws(\" \", col(\"filtered_words\")))"
   ]
  },
  {
   "cell_type": "markdown",
   "metadata": {},
   "source": [
    "Clasificamos los reviews"
   ]
  },
  {
   "cell_type": "code",
   "execution_count": 29,
   "metadata": {},
   "outputs": [],
   "source": [
    "def get_sentiment(text):\n",
    "    polarity = TextBlob(text).sentiment.polarity\n",
    "    if polarity > 0.1:\n",
    "        return \"buena\"\n",
    "    elif polarity < -0.1:\n",
    "        return \"mala\"\n",
    "    else:\n",
    "        return \"neutral\""
   ]
  },
  {
   "cell_type": "code",
   "execution_count": 30,
   "metadata": {},
   "outputs": [],
   "source": [
    "get_sentiment_udf = F.udf(get_sentiment)"
   ]
  },
  {
   "cell_type": "code",
   "execution_count": 31,
   "metadata": {},
   "outputs": [],
   "source": [
    "df = df.withColumn(\"sentiment\", get_sentiment_udf(df[\"normalized_text\"]))"
   ]
  },
  {
   "cell_type": "code",
   "execution_count": 32,
   "metadata": {},
   "outputs": [
    {
     "name": "stdout",
     "output_type": "stream",
     "text": [
      "+-----------------+--------------------+--------------------+--------------------+-------+---------+--------------------+--------------------+--------------------+--------------------+---------+\n",
      "|          user_id|            user_url|              posted|         last_edited|item_id|recommend|              review|               words|      filtered_words|     normalized_text|sentiment|\n",
      "+-----------------+--------------------+--------------------+--------------------+-------+---------+--------------------+--------------------+--------------------+--------------------+---------+\n",
      "|76561197970982479|http://steamcommu...|Posted November 5...|                    |   1250|     true|simple yet with g...|[simple, yet, wit...|[simple, yet, gre...|simple yet great ...|    buena|\n",
      "|76561197970982479|http://steamcommu...|Posted July 15, 2...|                    |  22200|     true|its unique and wo...|[its, unique, and...|[unique, worth, p...|unique worth play...|    buena|\n",
      "|76561197970982479|http://steamcommu...|Posted April 21, ...|                    |  43110|     true|great atmosphere ...|[great, atmospher...|[great, atmospher...|great atmosphere ...|  neutral|\n",
      "|          js41637|http://steamcommu...|Posted June 24, 2...|                    | 251610|     true|i know what you t...|[i, know, what, y...|[know, think, see...|know think see ti...|    buena|\n",
      "|          js41637|http://steamcommu...|Posted September ...|                    | 227300|     true|for a simple its ...|[for, a, simple, ...|[simple, actually...|simple actually s...|  neutral|\n",
      "|          js41637|http://steamcommu...|Posted November 2...|                    | 239030|     true|very fun little g...|[very, fun, littl...|[fun, little, gam...|fun little game p...|     mala|\n",
      "|        evcentric|http://steamcommu...|  Posted February 3.|                    | 248820|     true|a suitably punish...|[a, suitably, pun...|[suitably, punish...|suitably punishin...|    buena|\n",
      "|        evcentric|http://steamcommu...|Posted December 4...|Last edited Decem...| 370360|     true|run for fun what ...|[run, for, fun, w...|[run, fun, hell, ...|run fun hell kind...|    buena|\n",
      "|        evcentric|http://steamcommu...|Posted November 3...|                    | 237930|     true|elegant integrati...|[elegant, integra...|[elegant, integra...|elegant integrati...|    buena|\n",
      "|        evcentric|http://steamcommu...|Posted October 15...|                    | 263360|     true|random drops and ...|[random, drops, a...|[random, drops, r...|random drops rand...|     mala|\n",
      "|        evcentric|http://steamcommu...|Posted October 15...|                    | 107200|     true|fun balance of ta...|[fun, balance, of...|[fun, balance, ta...|fun balance tacti...|    buena|\n",
      "|        evcentric|http://steamcommu...|Posted October 15...|                    | 224500|     true|fun world builder...|[fun, world, buil...|[fun, world, buil...|fun world builder...|  neutral|\n",
      "|            doctr|http://steamcommu...|Posted October 14...|                    | 250320|     true|this game is so f...|[this, game, is, ...|[game, fun, fight...|game fun fight se...|    buena|\n",
      "|            doctr|http://steamcommu...|Posted July 28, 2...|                    |  20920|     true|really really rea...|[really, really, ...|[really, really, ...|really really rea...|    buena|\n",
      "|            doctr|http://steamcommu...|Posted June 2, 2012.|                    | 204100|     true|just buy it alrea...|[just, buy, it, a...|[buy, already, gr...|buy already great...|    buena|\n",
      "|            doctr|http://steamcommu...|Posted June 29, 2...|                    | 224600|     true|it was a great ga...|[it, was, a, grea...|[great, game, pla...|great game played...|    buena|\n",
      "|            doctr|http://steamcommu...|Posted November 2...|                    | 207610|     true|the ending to thi...|[the, ending, to,...|[ending, game, , ...|ending game  buy ...|     mala|\n",
      "|            doctr|http://steamcommu...|Posted February 2...|                    | 108710|     true|alan wake is a re...|[alan, wake, is, ...|[alan, wake, real...|alan wake really ...|    buena|\n",
      "|        maplemage|http://steamcommu...|Posted April 15, ...|                    | 211420|     true|             git gud|          [git, gud]|          [git, gud]|             git gud|  neutral|\n",
      "|        maplemage|http://steamcommu...|Posted December 2...|                    | 211820|     true|its like terraria...|[its, like, terra...|[like, terraria, ...|like terraria pla...|  neutral|\n",
      "+-----------------+--------------------+--------------------+--------------------+-------+---------+--------------------+--------------------+--------------------+--------------------+---------+\n",
      "only showing top 20 rows\n",
      "\n"
     ]
    }
   ],
   "source": [
    "df.show()"
   ]
  },
  {
   "cell_type": "markdown",
   "metadata": {},
   "source": [
    "Eliminamos las columnas que no necesitamos"
   ]
  },
  {
   "cell_type": "code",
   "execution_count": 33,
   "metadata": {},
   "outputs": [],
   "source": [
    "df = df.drop('review')\n",
    "df = df.drop('words')\n",
    "df = df.drop('filtered_words')\n",
    "df = df.drop('normalized_text')\n",
    "df = df.drop('last_edited')"
   ]
  },
  {
   "cell_type": "markdown",
   "metadata": {},
   "source": [
    "Eliminamos la palabra \"Posted\" de la columna posted"
   ]
  },
  {
   "cell_type": "code",
   "execution_count": 34,
   "metadata": {},
   "outputs": [],
   "source": [
    "df = df.withColumn(\"posted\", regexp_replace(\"posted\", \"Posted\", \"\"))"
   ]
  },
  {
   "cell_type": "markdown",
   "metadata": {},
   "source": [
    "agregamos un espacio al final de cada fila en la columna user_url para que no toque con la columna siguiente y arroje error el link"
   ]
  },
  {
   "cell_type": "code",
   "execution_count": 35,
   "metadata": {},
   "outputs": [],
   "source": [
    "df = df.withColumn(\"user_url\", concat(col(\"user_url\"), lit(\" \")))"
   ]
  },
  {
   "cell_type": "code",
   "execution_count": 36,
   "metadata": {},
   "outputs": [
    {
     "name": "stdout",
     "output_type": "stream",
     "text": [
      "+-----------------+-----------------------------------------------------+-------------------+-------+---------+---------+\n",
      "|user_id          |user_url                                             |posted             |item_id|recommend|sentiment|\n",
      "+-----------------+-----------------------------------------------------+-------------------+-------+---------+---------+\n",
      "|76561197970982479|http://steamcommunity.com/profiles/76561197970982479 | November 5, 2011. |1250   |true     |buena    |\n",
      "|76561197970982479|http://steamcommunity.com/profiles/76561197970982479 | July 15, 2011.    |22200  |true     |buena    |\n",
      "|76561197970982479|http://steamcommunity.com/profiles/76561197970982479 | April 21, 2011.   |43110  |true     |neutral  |\n",
      "|js41637          |http://steamcommunity.com/id/js41637                 | June 24, 2014.    |251610 |true     |buena    |\n",
      "|js41637          |http://steamcommunity.com/id/js41637                 | September 8, 2013.|227300 |true     |neutral  |\n",
      "|js41637          |http://steamcommunity.com/id/js41637                 | November 29, 2013.|239030 |true     |mala     |\n",
      "|evcentric        |http://steamcommunity.com/id/evcentric               | February 3.       |248820 |true     |buena    |\n",
      "|evcentric        |http://steamcommunity.com/id/evcentric               | December 4, 2015. |370360 |true     |buena    |\n",
      "|evcentric        |http://steamcommunity.com/id/evcentric               | November 3, 2014. |237930 |true     |buena    |\n",
      "|evcentric        |http://steamcommunity.com/id/evcentric               | October 15, 2014. |263360 |true     |mala     |\n",
      "|evcentric        |http://steamcommunity.com/id/evcentric               | October 15, 2014. |107200 |true     |buena    |\n",
      "|evcentric        |http://steamcommunity.com/id/evcentric               | October 15, 2014. |224500 |true     |neutral  |\n",
      "|doctr            |http://steamcommunity.com/id/doctr                   | October 14, 2013. |250320 |true     |buena    |\n",
      "|doctr            |http://steamcommunity.com/id/doctr                   | July 28, 2012.    |20920  |true     |buena    |\n",
      "|doctr            |http://steamcommunity.com/id/doctr                   | June 2, 2012.     |204100 |true     |buena    |\n",
      "|doctr            |http://steamcommunity.com/id/doctr                   | June 29, 2014.    |224600 |true     |buena    |\n",
      "|doctr            |http://steamcommunity.com/id/doctr                   | November 22, 2012.|207610 |true     |mala     |\n",
      "|doctr            |http://steamcommunity.com/id/doctr                   | February 23, 2012.|108710 |true     |buena    |\n",
      "|maplemage        |http://steamcommunity.com/id/maplemage               | April 15, 2014.   |211420 |true     |neutral  |\n",
      "|maplemage        |http://steamcommunity.com/id/maplemage               | December 23, 2013.|211820 |true     |neutral  |\n",
      "+-----------------+-----------------------------------------------------+-------------------+-------+---------+---------+\n",
      "only showing top 20 rows\n",
      "\n"
     ]
    }
   ],
   "source": [
    "df.show(truncate=False)"
   ]
  },
  {
   "cell_type": "markdown",
   "metadata": {},
   "source": [
    "Eliminamos la columna user_url dado que no la vamos a utilizar"
   ]
  },
  {
   "cell_type": "code",
   "execution_count": 37,
   "metadata": {},
   "outputs": [],
   "source": [
    "df = df.drop('user_url')"
   ]
  },
  {
   "cell_type": "markdown",
   "metadata": {},
   "source": [
    "transformamos el df a Pandas"
   ]
  },
  {
   "cell_type": "code",
   "execution_count": 38,
   "metadata": {},
   "outputs": [],
   "source": [
    "df_pandas = df.toPandas()"
   ]
  },
  {
   "cell_type": "markdown",
   "metadata": {},
   "source": [
    "Corroboramos que se haya transformado correctamente"
   ]
  },
  {
   "cell_type": "code",
   "execution_count": 39,
   "metadata": {},
   "outputs": [
    {
     "data": {
      "text/html": [
       "<div>\n",
       "<style scoped>\n",
       "    .dataframe tbody tr th:only-of-type {\n",
       "        vertical-align: middle;\n",
       "    }\n",
       "\n",
       "    .dataframe tbody tr th {\n",
       "        vertical-align: top;\n",
       "    }\n",
       "\n",
       "    .dataframe thead th {\n",
       "        text-align: right;\n",
       "    }\n",
       "</style>\n",
       "<table border=\"1\" class=\"dataframe\">\n",
       "  <thead>\n",
       "    <tr style=\"text-align: right;\">\n",
       "      <th></th>\n",
       "      <th>user_id</th>\n",
       "      <th>posted</th>\n",
       "      <th>item_id</th>\n",
       "      <th>recommend</th>\n",
       "      <th>sentiment</th>\n",
       "    </tr>\n",
       "  </thead>\n",
       "  <tbody>\n",
       "    <tr>\n",
       "      <th>0</th>\n",
       "      <td>76561197970982479</td>\n",
       "      <td>November 5, 2011.</td>\n",
       "      <td>1250</td>\n",
       "      <td>True</td>\n",
       "      <td>buena</td>\n",
       "    </tr>\n",
       "    <tr>\n",
       "      <th>1</th>\n",
       "      <td>76561197970982479</td>\n",
       "      <td>July 15, 2011.</td>\n",
       "      <td>22200</td>\n",
       "      <td>True</td>\n",
       "      <td>buena</td>\n",
       "    </tr>\n",
       "    <tr>\n",
       "      <th>2</th>\n",
       "      <td>76561197970982479</td>\n",
       "      <td>April 21, 2011.</td>\n",
       "      <td>43110</td>\n",
       "      <td>True</td>\n",
       "      <td>neutral</td>\n",
       "    </tr>\n",
       "    <tr>\n",
       "      <th>3</th>\n",
       "      <td>js41637</td>\n",
       "      <td>June 24, 2014.</td>\n",
       "      <td>251610</td>\n",
       "      <td>True</td>\n",
       "      <td>buena</td>\n",
       "    </tr>\n",
       "    <tr>\n",
       "      <th>4</th>\n",
       "      <td>js41637</td>\n",
       "      <td>September 8, 2013.</td>\n",
       "      <td>227300</td>\n",
       "      <td>True</td>\n",
       "      <td>neutral</td>\n",
       "    </tr>\n",
       "    <tr>\n",
       "      <th>...</th>\n",
       "      <td>...</td>\n",
       "      <td>...</td>\n",
       "      <td>...</td>\n",
       "      <td>...</td>\n",
       "      <td>...</td>\n",
       "    </tr>\n",
       "    <tr>\n",
       "      <th>56637</th>\n",
       "      <td>76561198312638244</td>\n",
       "      <td>July 10.</td>\n",
       "      <td>70</td>\n",
       "      <td>True</td>\n",
       "      <td>buena</td>\n",
       "    </tr>\n",
       "    <tr>\n",
       "      <th>56638</th>\n",
       "      <td>76561198312638244</td>\n",
       "      <td>July 8.</td>\n",
       "      <td>362890</td>\n",
       "      <td>True</td>\n",
       "      <td>buena</td>\n",
       "    </tr>\n",
       "    <tr>\n",
       "      <th>56639</th>\n",
       "      <td>LydiaMorley</td>\n",
       "      <td>July 3.</td>\n",
       "      <td>273110</td>\n",
       "      <td>True</td>\n",
       "      <td>neutral</td>\n",
       "    </tr>\n",
       "    <tr>\n",
       "      <th>56640</th>\n",
       "      <td>LydiaMorley</td>\n",
       "      <td>July 20.</td>\n",
       "      <td>730</td>\n",
       "      <td>True</td>\n",
       "      <td>neutral</td>\n",
       "    </tr>\n",
       "    <tr>\n",
       "      <th>56641</th>\n",
       "      <td>LydiaMorley</td>\n",
       "      <td>July 2.</td>\n",
       "      <td>440</td>\n",
       "      <td>True</td>\n",
       "      <td>buena</td>\n",
       "    </tr>\n",
       "  </tbody>\n",
       "</table>\n",
       "<p>56642 rows × 5 columns</p>\n",
       "</div>"
      ],
      "text/plain": [
       "                 user_id               posted item_id  recommend sentiment\n",
       "0      76561197970982479    November 5, 2011.    1250       True     buena\n",
       "1      76561197970982479       July 15, 2011.   22200       True     buena\n",
       "2      76561197970982479      April 21, 2011.   43110       True   neutral\n",
       "3                js41637       June 24, 2014.  251610       True     buena\n",
       "4                js41637   September 8, 2013.  227300       True   neutral\n",
       "...                  ...                  ...     ...        ...       ...\n",
       "56637  76561198312638244             July 10.      70       True     buena\n",
       "56638  76561198312638244              July 8.  362890       True     buena\n",
       "56639        LydiaMorley              July 3.  273110       True   neutral\n",
       "56640        LydiaMorley             July 20.     730       True   neutral\n",
       "56641        LydiaMorley              July 2.     440       True     buena\n",
       "\n",
       "[56642 rows x 5 columns]"
      ]
     },
     "execution_count": 39,
     "metadata": {},
     "output_type": "execute_result"
    }
   ],
   "source": [
    "df_pandas"
   ]
  },
  {
   "cell_type": "markdown",
   "metadata": {},
   "source": [
    "voy a separar los años de posteo"
   ]
  },
  {
   "cell_type": "code",
   "execution_count": 40,
   "metadata": {},
   "outputs": [],
   "source": [
    "df_pandas['posted'] = df_pandas['posted'].replace(r'^\\s*\\w+\\s*\\d+\\.$', np.nan, regex=True)\n",
    "\n",
    "df_pandas['posted'] = pd.to_datetime(df_pandas['posted'], errors='coerce')\n",
    "\n",
    "df_pandas['year'] = df_pandas['posted'].dt.year"
   ]
  },
  {
   "cell_type": "code",
   "execution_count": 41,
   "metadata": {},
   "outputs": [
    {
     "data": {
      "text/html": [
       "<div>\n",
       "<style scoped>\n",
       "    .dataframe tbody tr th:only-of-type {\n",
       "        vertical-align: middle;\n",
       "    }\n",
       "\n",
       "    .dataframe tbody tr th {\n",
       "        vertical-align: top;\n",
       "    }\n",
       "\n",
       "    .dataframe thead th {\n",
       "        text-align: right;\n",
       "    }\n",
       "</style>\n",
       "<table border=\"1\" class=\"dataframe\">\n",
       "  <thead>\n",
       "    <tr style=\"text-align: right;\">\n",
       "      <th></th>\n",
       "      <th>user_id</th>\n",
       "      <th>posted</th>\n",
       "      <th>item_id</th>\n",
       "      <th>recommend</th>\n",
       "      <th>sentiment</th>\n",
       "      <th>year</th>\n",
       "    </tr>\n",
       "  </thead>\n",
       "  <tbody>\n",
       "    <tr>\n",
       "      <th>0</th>\n",
       "      <td>76561197970982479</td>\n",
       "      <td>2011-11-05</td>\n",
       "      <td>1250</td>\n",
       "      <td>True</td>\n",
       "      <td>buena</td>\n",
       "      <td>2011.0</td>\n",
       "    </tr>\n",
       "    <tr>\n",
       "      <th>1</th>\n",
       "      <td>76561197970982479</td>\n",
       "      <td>2011-07-15</td>\n",
       "      <td>22200</td>\n",
       "      <td>True</td>\n",
       "      <td>buena</td>\n",
       "      <td>2011.0</td>\n",
       "    </tr>\n",
       "    <tr>\n",
       "      <th>2</th>\n",
       "      <td>76561197970982479</td>\n",
       "      <td>2011-04-21</td>\n",
       "      <td>43110</td>\n",
       "      <td>True</td>\n",
       "      <td>neutral</td>\n",
       "      <td>2011.0</td>\n",
       "    </tr>\n",
       "    <tr>\n",
       "      <th>3</th>\n",
       "      <td>js41637</td>\n",
       "      <td>2014-06-24</td>\n",
       "      <td>251610</td>\n",
       "      <td>True</td>\n",
       "      <td>buena</td>\n",
       "      <td>2014.0</td>\n",
       "    </tr>\n",
       "    <tr>\n",
       "      <th>4</th>\n",
       "      <td>js41637</td>\n",
       "      <td>2013-09-08</td>\n",
       "      <td>227300</td>\n",
       "      <td>True</td>\n",
       "      <td>neutral</td>\n",
       "      <td>2013.0</td>\n",
       "    </tr>\n",
       "    <tr>\n",
       "      <th>...</th>\n",
       "      <td>...</td>\n",
       "      <td>...</td>\n",
       "      <td>...</td>\n",
       "      <td>...</td>\n",
       "      <td>...</td>\n",
       "      <td>...</td>\n",
       "    </tr>\n",
       "    <tr>\n",
       "      <th>56637</th>\n",
       "      <td>76561198312638244</td>\n",
       "      <td>NaT</td>\n",
       "      <td>70</td>\n",
       "      <td>True</td>\n",
       "      <td>buena</td>\n",
       "      <td>NaN</td>\n",
       "    </tr>\n",
       "    <tr>\n",
       "      <th>56638</th>\n",
       "      <td>76561198312638244</td>\n",
       "      <td>NaT</td>\n",
       "      <td>362890</td>\n",
       "      <td>True</td>\n",
       "      <td>buena</td>\n",
       "      <td>NaN</td>\n",
       "    </tr>\n",
       "    <tr>\n",
       "      <th>56639</th>\n",
       "      <td>LydiaMorley</td>\n",
       "      <td>NaT</td>\n",
       "      <td>273110</td>\n",
       "      <td>True</td>\n",
       "      <td>neutral</td>\n",
       "      <td>NaN</td>\n",
       "    </tr>\n",
       "    <tr>\n",
       "      <th>56640</th>\n",
       "      <td>LydiaMorley</td>\n",
       "      <td>NaT</td>\n",
       "      <td>730</td>\n",
       "      <td>True</td>\n",
       "      <td>neutral</td>\n",
       "      <td>NaN</td>\n",
       "    </tr>\n",
       "    <tr>\n",
       "      <th>56641</th>\n",
       "      <td>LydiaMorley</td>\n",
       "      <td>NaT</td>\n",
       "      <td>440</td>\n",
       "      <td>True</td>\n",
       "      <td>buena</td>\n",
       "      <td>NaN</td>\n",
       "    </tr>\n",
       "  </tbody>\n",
       "</table>\n",
       "<p>56642 rows × 6 columns</p>\n",
       "</div>"
      ],
      "text/plain": [
       "                 user_id     posted item_id  recommend sentiment    year\n",
       "0      76561197970982479 2011-11-05    1250       True     buena  2011.0\n",
       "1      76561197970982479 2011-07-15   22200       True     buena  2011.0\n",
       "2      76561197970982479 2011-04-21   43110       True   neutral  2011.0\n",
       "3                js41637 2014-06-24  251610       True     buena  2014.0\n",
       "4                js41637 2013-09-08  227300       True   neutral  2013.0\n",
       "...                  ...        ...     ...        ...       ...     ...\n",
       "56637  76561198312638244        NaT      70       True     buena     NaN\n",
       "56638  76561198312638244        NaT  362890       True     buena     NaN\n",
       "56639        LydiaMorley        NaT  273110       True   neutral     NaN\n",
       "56640        LydiaMorley        NaT     730       True   neutral     NaN\n",
       "56641        LydiaMorley        NaT     440       True     buena     NaN\n",
       "\n",
       "[56642 rows x 6 columns]"
      ]
     },
     "execution_count": 41,
     "metadata": {},
     "output_type": "execute_result"
    }
   ],
   "source": [
    "df_pandas"
   ]
  },
  {
   "cell_type": "markdown",
   "metadata": {},
   "source": [
    "voy a eliminar las filas que no tienen año de posteo"
   ]
  },
  {
   "cell_type": "code",
   "execution_count": 42,
   "metadata": {},
   "outputs": [
    {
     "name": "stdout",
     "output_type": "stream",
     "text": [
      "9588\n"
     ]
    }
   ],
   "source": [
    "num_valores_null = df_pandas['year'].isnull().sum()\n",
    "\n",
    "print(num_valores_null)\n"
   ]
  },
  {
   "cell_type": "code",
   "execution_count": 43,
   "metadata": {},
   "outputs": [],
   "source": [
    "df_pandas = df_pandas.dropna(subset=['year'])"
   ]
  },
  {
   "cell_type": "code",
   "execution_count": 44,
   "metadata": {},
   "outputs": [
    {
     "data": {
      "text/html": [
       "<div>\n",
       "<style scoped>\n",
       "    .dataframe tbody tr th:only-of-type {\n",
       "        vertical-align: middle;\n",
       "    }\n",
       "\n",
       "    .dataframe tbody tr th {\n",
       "        vertical-align: top;\n",
       "    }\n",
       "\n",
       "    .dataframe thead th {\n",
       "        text-align: right;\n",
       "    }\n",
       "</style>\n",
       "<table border=\"1\" class=\"dataframe\">\n",
       "  <thead>\n",
       "    <tr style=\"text-align: right;\">\n",
       "      <th></th>\n",
       "      <th>user_id</th>\n",
       "      <th>posted</th>\n",
       "      <th>item_id</th>\n",
       "      <th>recommend</th>\n",
       "      <th>sentiment</th>\n",
       "      <th>year</th>\n",
       "    </tr>\n",
       "  </thead>\n",
       "  <tbody>\n",
       "    <tr>\n",
       "      <th>0</th>\n",
       "      <td>76561197970982479</td>\n",
       "      <td>2011-11-05</td>\n",
       "      <td>1250</td>\n",
       "      <td>True</td>\n",
       "      <td>buena</td>\n",
       "      <td>2011.0</td>\n",
       "    </tr>\n",
       "    <tr>\n",
       "      <th>1</th>\n",
       "      <td>76561197970982479</td>\n",
       "      <td>2011-07-15</td>\n",
       "      <td>22200</td>\n",
       "      <td>True</td>\n",
       "      <td>buena</td>\n",
       "      <td>2011.0</td>\n",
       "    </tr>\n",
       "    <tr>\n",
       "      <th>2</th>\n",
       "      <td>76561197970982479</td>\n",
       "      <td>2011-04-21</td>\n",
       "      <td>43110</td>\n",
       "      <td>True</td>\n",
       "      <td>neutral</td>\n",
       "      <td>2011.0</td>\n",
       "    </tr>\n",
       "    <tr>\n",
       "      <th>3</th>\n",
       "      <td>js41637</td>\n",
       "      <td>2014-06-24</td>\n",
       "      <td>251610</td>\n",
       "      <td>True</td>\n",
       "      <td>buena</td>\n",
       "      <td>2014.0</td>\n",
       "    </tr>\n",
       "    <tr>\n",
       "      <th>4</th>\n",
       "      <td>js41637</td>\n",
       "      <td>2013-09-08</td>\n",
       "      <td>227300</td>\n",
       "      <td>True</td>\n",
       "      <td>neutral</td>\n",
       "      <td>2013.0</td>\n",
       "    </tr>\n",
       "    <tr>\n",
       "      <th>...</th>\n",
       "      <td>...</td>\n",
       "      <td>...</td>\n",
       "      <td>...</td>\n",
       "      <td>...</td>\n",
       "      <td>...</td>\n",
       "      <td>...</td>\n",
       "    </tr>\n",
       "    <tr>\n",
       "      <th>56589</th>\n",
       "      <td>wayfeng</td>\n",
       "      <td>2015-10-14</td>\n",
       "      <td>730</td>\n",
       "      <td>True</td>\n",
       "      <td>neutral</td>\n",
       "      <td>2015.0</td>\n",
       "    </tr>\n",
       "    <tr>\n",
       "      <th>56592</th>\n",
       "      <td>76561198251004808</td>\n",
       "      <td>2015-10-10</td>\n",
       "      <td>253980</td>\n",
       "      <td>True</td>\n",
       "      <td>buena</td>\n",
       "      <td>2015.0</td>\n",
       "    </tr>\n",
       "    <tr>\n",
       "      <th>56602</th>\n",
       "      <td>72947282842</td>\n",
       "      <td>2015-10-31</td>\n",
       "      <td>730</td>\n",
       "      <td>True</td>\n",
       "      <td>mala</td>\n",
       "      <td>2015.0</td>\n",
       "    </tr>\n",
       "    <tr>\n",
       "      <th>56604</th>\n",
       "      <td>ApxLGhost</td>\n",
       "      <td>2015-12-14</td>\n",
       "      <td>730</td>\n",
       "      <td>True</td>\n",
       "      <td>buena</td>\n",
       "      <td>2015.0</td>\n",
       "    </tr>\n",
       "    <tr>\n",
       "      <th>56613</th>\n",
       "      <td>76561198267374962</td>\n",
       "      <td>2015-12-29</td>\n",
       "      <td>369200</td>\n",
       "      <td>True</td>\n",
       "      <td>buena</td>\n",
       "      <td>2015.0</td>\n",
       "    </tr>\n",
       "  </tbody>\n",
       "</table>\n",
       "<p>47054 rows × 6 columns</p>\n",
       "</div>"
      ],
      "text/plain": [
       "                 user_id     posted item_id  recommend sentiment    year\n",
       "0      76561197970982479 2011-11-05    1250       True     buena  2011.0\n",
       "1      76561197970982479 2011-07-15   22200       True     buena  2011.0\n",
       "2      76561197970982479 2011-04-21   43110       True   neutral  2011.0\n",
       "3                js41637 2014-06-24  251610       True     buena  2014.0\n",
       "4                js41637 2013-09-08  227300       True   neutral  2013.0\n",
       "...                  ...        ...     ...        ...       ...     ...\n",
       "56589            wayfeng 2015-10-14     730       True   neutral  2015.0\n",
       "56592  76561198251004808 2015-10-10  253980       True     buena  2015.0\n",
       "56602        72947282842 2015-10-31     730       True      mala  2015.0\n",
       "56604          ApxLGhost 2015-12-14     730       True     buena  2015.0\n",
       "56613  76561198267374962 2015-12-29  369200       True     buena  2015.0\n",
       "\n",
       "[47054 rows x 6 columns]"
      ]
     },
     "execution_count": 44,
     "metadata": {},
     "output_type": "execute_result"
    }
   ],
   "source": [
    "df_pandas"
   ]
  },
  {
   "cell_type": "code",
   "execution_count": 45,
   "metadata": {},
   "outputs": [
    {
     "name": "stderr",
     "output_type": "stream",
     "text": [
      "C:\\Users\\Faccu E\\AppData\\Local\\Temp\\ipykernel_8228\\168905133.py:1: SettingWithCopyWarning: \n",
      "A value is trying to be set on a copy of a slice from a DataFrame.\n",
      "Try using .loc[row_indexer,col_indexer] = value instead\n",
      "\n",
      "See the caveats in the documentation: https://pandas.pydata.org/pandas-docs/stable/user_guide/indexing.html#returning-a-view-versus-a-copy\n",
      "  df_pandas['year'] = df_pandas['year'].astype(int)\n"
     ]
    }
   ],
   "source": [
    "df_pandas['year'] = df_pandas['year'].astype(int)"
   ]
  },
  {
   "cell_type": "code",
   "execution_count": 46,
   "metadata": {},
   "outputs": [
    {
     "data": {
      "text/html": [
       "<div>\n",
       "<style scoped>\n",
       "    .dataframe tbody tr th:only-of-type {\n",
       "        vertical-align: middle;\n",
       "    }\n",
       "\n",
       "    .dataframe tbody tr th {\n",
       "        vertical-align: top;\n",
       "    }\n",
       "\n",
       "    .dataframe thead th {\n",
       "        text-align: right;\n",
       "    }\n",
       "</style>\n",
       "<table border=\"1\" class=\"dataframe\">\n",
       "  <thead>\n",
       "    <tr style=\"text-align: right;\">\n",
       "      <th></th>\n",
       "      <th>user_id</th>\n",
       "      <th>posted</th>\n",
       "      <th>item_id</th>\n",
       "      <th>recommend</th>\n",
       "      <th>sentiment</th>\n",
       "      <th>year</th>\n",
       "    </tr>\n",
       "  </thead>\n",
       "  <tbody>\n",
       "    <tr>\n",
       "      <th>0</th>\n",
       "      <td>76561197970982479</td>\n",
       "      <td>2011-11-05</td>\n",
       "      <td>1250</td>\n",
       "      <td>True</td>\n",
       "      <td>buena</td>\n",
       "      <td>2011</td>\n",
       "    </tr>\n",
       "    <tr>\n",
       "      <th>1</th>\n",
       "      <td>76561197970982479</td>\n",
       "      <td>2011-07-15</td>\n",
       "      <td>22200</td>\n",
       "      <td>True</td>\n",
       "      <td>buena</td>\n",
       "      <td>2011</td>\n",
       "    </tr>\n",
       "    <tr>\n",
       "      <th>2</th>\n",
       "      <td>76561197970982479</td>\n",
       "      <td>2011-04-21</td>\n",
       "      <td>43110</td>\n",
       "      <td>True</td>\n",
       "      <td>neutral</td>\n",
       "      <td>2011</td>\n",
       "    </tr>\n",
       "    <tr>\n",
       "      <th>3</th>\n",
       "      <td>js41637</td>\n",
       "      <td>2014-06-24</td>\n",
       "      <td>251610</td>\n",
       "      <td>True</td>\n",
       "      <td>buena</td>\n",
       "      <td>2014</td>\n",
       "    </tr>\n",
       "    <tr>\n",
       "      <th>4</th>\n",
       "      <td>js41637</td>\n",
       "      <td>2013-09-08</td>\n",
       "      <td>227300</td>\n",
       "      <td>True</td>\n",
       "      <td>neutral</td>\n",
       "      <td>2013</td>\n",
       "    </tr>\n",
       "    <tr>\n",
       "      <th>...</th>\n",
       "      <td>...</td>\n",
       "      <td>...</td>\n",
       "      <td>...</td>\n",
       "      <td>...</td>\n",
       "      <td>...</td>\n",
       "      <td>...</td>\n",
       "    </tr>\n",
       "    <tr>\n",
       "      <th>56589</th>\n",
       "      <td>wayfeng</td>\n",
       "      <td>2015-10-14</td>\n",
       "      <td>730</td>\n",
       "      <td>True</td>\n",
       "      <td>neutral</td>\n",
       "      <td>2015</td>\n",
       "    </tr>\n",
       "    <tr>\n",
       "      <th>56592</th>\n",
       "      <td>76561198251004808</td>\n",
       "      <td>2015-10-10</td>\n",
       "      <td>253980</td>\n",
       "      <td>True</td>\n",
       "      <td>buena</td>\n",
       "      <td>2015</td>\n",
       "    </tr>\n",
       "    <tr>\n",
       "      <th>56602</th>\n",
       "      <td>72947282842</td>\n",
       "      <td>2015-10-31</td>\n",
       "      <td>730</td>\n",
       "      <td>True</td>\n",
       "      <td>mala</td>\n",
       "      <td>2015</td>\n",
       "    </tr>\n",
       "    <tr>\n",
       "      <th>56604</th>\n",
       "      <td>ApxLGhost</td>\n",
       "      <td>2015-12-14</td>\n",
       "      <td>730</td>\n",
       "      <td>True</td>\n",
       "      <td>buena</td>\n",
       "      <td>2015</td>\n",
       "    </tr>\n",
       "    <tr>\n",
       "      <th>56613</th>\n",
       "      <td>76561198267374962</td>\n",
       "      <td>2015-12-29</td>\n",
       "      <td>369200</td>\n",
       "      <td>True</td>\n",
       "      <td>buena</td>\n",
       "      <td>2015</td>\n",
       "    </tr>\n",
       "  </tbody>\n",
       "</table>\n",
       "<p>47054 rows × 6 columns</p>\n",
       "</div>"
      ],
      "text/plain": [
       "                 user_id     posted item_id  recommend sentiment  year\n",
       "0      76561197970982479 2011-11-05    1250       True     buena  2011\n",
       "1      76561197970982479 2011-07-15   22200       True     buena  2011\n",
       "2      76561197970982479 2011-04-21   43110       True   neutral  2011\n",
       "3                js41637 2014-06-24  251610       True     buena  2014\n",
       "4                js41637 2013-09-08  227300       True   neutral  2013\n",
       "...                  ...        ...     ...        ...       ...   ...\n",
       "56589            wayfeng 2015-10-14     730       True   neutral  2015\n",
       "56592  76561198251004808 2015-10-10  253980       True     buena  2015\n",
       "56602        72947282842 2015-10-31     730       True      mala  2015\n",
       "56604          ApxLGhost 2015-12-14     730       True     buena  2015\n",
       "56613  76561198267374962 2015-12-29  369200       True     buena  2015\n",
       "\n",
       "[47054 rows x 6 columns]"
      ]
     },
     "execution_count": 46,
     "metadata": {},
     "output_type": "execute_result"
    }
   ],
   "source": [
    "df_pandas"
   ]
  },
  {
   "cell_type": "markdown",
   "metadata": {},
   "source": [
    "Creamos un CSV final con el ETL Realizado"
   ]
  },
  {
   "cell_type": "code",
   "execution_count": 47,
   "metadata": {},
   "outputs": [],
   "source": [
    "df_pandas.to_parquet('user_reviews_final.parquet', index=False)"
   ]
  }
 ],
 "metadata": {
  "kernelspec": {
   "display_name": "Python 3",
   "language": "python",
   "name": "python3"
  },
  "language_info": {
   "codemirror_mode": {
    "name": "ipython",
    "version": 3
   },
   "file_extension": ".py",
   "mimetype": "text/x-python",
   "name": "python",
   "nbconvert_exporter": "python",
   "pygments_lexer": "ipython3",
   "version": "3.11.7"
  }
 },
 "nbformat": 4,
 "nbformat_minor": 2
}
